{
 "cells": [
  {
   "cell_type": "markdown",
   "id": "4fbb6da3-f056-4792-adef-2a7f6df8032f",
   "metadata": {},
   "source": [
    "The following code starts the multi client script in the background and records load balancer metrics at regular intervals to analyse. In this example the load balancer is using the weighted round robin algorithm with weights inversely proportional to each server's simulated latency."
   ]
  },
  {
   "cell_type": "code",
   "execution_count": 19,
   "id": "16bd5bc1-9c45-4607-b524-b0f841e9d891",
   "metadata": {},
   "outputs": [
    {
     "data": {
      "image/png": "[encoded data removed]",
      "text/plain": [
       "<Figure size 500x300 with 1 Axes>"
      ]
     },
     "metadata": {},
     "output_type": "display_data"
    },
    {
     "data": {
      "text/plain": [
       "None"
      ]
     },
     "metadata": {},
     "output_type": "display_data"
    },
    {
     "data": {
      "text/plain": [
       "'Average Overall Latency: 826ms'"
      ]
     },
     "metadata": {},
     "output_type": "display_data"
    }
   ],
   "source": [
    "import collections\n",
    "import requests\n",
    "import subprocess\n",
    "import sys\n",
    "import time\n",
    "\n",
    "from IPython.display import clear_output, display\n",
    "import matplotlib\n",
    "import matplotlib.pyplot as plt\n",
    "\n",
    "LB_URL = \"http://localhost:8080\"\n",
    "REQUEST_COUNT = 1\n",
    "CLIENT_COUNT = 5\n",
    "METRICS_BUFFER_MAXLEN = 30\n",
    "METRIC_INTERVAL = 5\n",
    "\n",
    "# Run multi client script in background process\n",
    "multi_client_process = subprocess.Popen([\"go\", \"run\", \"../demo/multi-client/\", LB_URL, str(REQUEST_COUNT), str(CLIENT_COUNT)],\n",
    "                                        stdout=sys.stdout)\n",
    "print(\"Multi client simulation started. See Jupyter's stdout for logs\")\n",
    "\n",
    "# Store most recent metrics\n",
    "metrics_buffer = collections.deque(maxlen=METRICS_BUFFER_MAXLEN)\n",
    "\n",
    "# While multi client script process is still running\n",
    "print(\"Started fetching metrics at a regular interval\")\n",
    "while multi_client_process.poll() is None:\n",
    "    \n",
    "    # Fetch metrics\n",
    "    response = requests.get(LB_URL + \"/metrics\")\n",
    "\n",
    "    # Save metric data\n",
    "    metrics_buffer.append(response.json())\n",
    "\n",
    "    time.sleep(METRIC_INTERVAL)\n",
    "\n",
    "print(\"Multi client simulation finished\")\n",
    "clear_output()\n",
    "\n",
    "\n",
    "# Set width and height of figure\n",
    "plt.rcParams[\"figure.figsize\"] = [5, 3]\n",
    "\n",
    "figure, axis = plt.subplots(nrows=1, ncols=1)\n",
    "\n",
    "def plot_request_count_bar_chart(axes: matplotlib.axes.Axes):\n",
    "    \"\"\"Plot request count bar chart.\n",
    "\n",
    "    Args:\n",
    "        axes (plt.axes.Axes): The axes object to plot to.\n",
    "    \n",
    "    \"\"\"\n",
    "    averageNodeLatencies = [server_node_metric[\"averageLatency\"] for server_node_metric in metrics_buffer[len(metrics_buffer) - 1][\"serverNodeMetrics\"]]\n",
    "    request_counts = [server_node_metric[\"requestCount\"] for server_node_metric in metrics_buffer[len(metrics_buffer) - 1][\"serverNodeMetrics\"]]\n",
    "    \n",
    "    axes.set_xlabel(\"URL\")\n",
    "    axes.set_ylabel(\"Average Node Latency\")\n",
    "    axes.bar(averageNodeLatencies, request_counts)\n",
    "\n",
    "plot_request_count_bar_chart(axis)\n",
    "\n",
    "plt.tight_layout()\n",
    "display(plt.show())\n",
    "\n",
    "display(f\"Average Overall Latency: {metrics_buffer[len(metrics_buffer) - 1]['overallLatency']}\")\n"
   ]
  }
 ],
 "metadata": {
  "kernelspec": {
   "display_name": "Python 3 (ipykernel)",
   "language": "python",
   "name": "python3"
  },
  "language_info": {
   "codemirror_mode": {
    "name": "ipython",
    "version": 3
   },
   "file_extension": ".py",
   "mimetype": "text/x-python",
   "name": "python",
   "nbconvert_exporter": "python",
   "pygments_lexer": "ipython3",
   "version": "3.13.5"
  }
 },
 "nbformat": 4,
 "nbformat_minor": 5
}
